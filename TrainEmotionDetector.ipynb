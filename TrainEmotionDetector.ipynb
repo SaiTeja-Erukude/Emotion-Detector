{
 "cells": [
  {
   "cell_type": "code",
   "execution_count": 1,
   "id": "66a67c91",
   "metadata": {},
   "outputs": [],
   "source": [
    "from keras.models import Sequential\n",
    "from keras.layers import Conv2D, MaxPooling2D, Dense, Dropout, Flatten\n",
    "from keras.optimizers import Adam\n",
    "from keras.preprocessing.image import ImageDataGenerator"
   ]
  },
  {
   "cell_type": "code",
   "execution_count": 2,
   "id": "83b26bad",
   "metadata": {},
   "outputs": [],
   "source": [
    "# Preprocessing the images\n",
    "# Initialize image data generators\n",
    "\n",
    "train_data_gen = ImageDataGenerator(rescale=1./255)\n",
    "test_data_gen = ImageDataGenerator(rescale=1./255)"
   ]
  },
  {
   "cell_type": "code",
   "execution_count": 3,
   "id": "29882ee7",
   "metadata": {},
   "outputs": [
    {
     "name": "stdout",
     "output_type": "stream",
     "text": [
      "Found 28709 images belonging to 7 classes.\n",
      "Found 7178 images belonging to 7 classes.\n"
     ]
    }
   ],
   "source": [
    "# Preprocess train images\n",
    "train_generator = train_data_gen.flow_from_directory(\n",
    "    'data/train',\n",
    "    target_size=(48, 48),\n",
    "    batch_size=64,\n",
    "    color_mode='grayscale',\n",
    "    class_mode='categorical'\n",
    ")\n",
    "\n",
    "# Preprocess test images\n",
    "test_generator = test_data_gen.flow_from_directory(\n",
    "    'data/test',\n",
    "    target_size=(48, 48),\n",
    "    batch_size=64,\n",
    "    color_mode='grayscale',\n",
    "    class_mode='categorical'\n",
    ")"
   ]
  },
  {
   "cell_type": "markdown",
   "id": "e90c8e54",
   "metadata": {},
   "source": [
    "#### Creating the Model"
   ]
  },
  {
   "cell_type": "code",
   "execution_count": 4,
   "id": "e0635284",
   "metadata": {},
   "outputs": [],
   "source": [
    "number_of_classes = 7\n",
    "\n",
    "model = Sequential()\n",
    "\n",
    "# 1st CNN layer\n",
    "model.add(Conv2D(32, kernel_size=(3, 3), activation='relu', input_shape=(48, 48, 1)))\n",
    "model.add(Conv2D(64, kernel_size=(3, 3), activation='relu'))\n",
    "model.add(MaxPooling2D(pool_size=(2, 2)))\n",
    "model.add(Dropout(0.25))\n",
    "\n",
    "# 2nd CNN layer\n",
    "model.add(Conv2D(128, kernel_size=(3, 3), activation='relu'))\n",
    "model.add(MaxPooling2D(pool_size=(2, 2)))\n",
    "model.add(Dropout(0.25))\n",
    "\n",
    "# 3rd CNN layer\n",
    "model.add(Conv2D(128, kernel_size=(3, 3), activation='relu'))\n",
    "model.add(MaxPooling2D(pool_size=(2, 2)))\n",
    "model.add(Dropout(0.25))\n",
    "\n",
    "# adding a flattening layer to flatten the input images\n",
    "model.add(Flatten())\n",
    "\n",
    "# Fully Connected layer\n",
    "model.add(Dense(512, activation='relu'))\n",
    "model.add(Dropout(0.25))\n",
    "\n",
    "model.add(Dense(number_of_classes, activation='softmax'))\n",
    "\n",
    "model.compile(loss='categorical_crossentropy', optimizer=Adam(lr=0.0001), metrics=['accuracy'])\n"
   ]
  },
  {
   "cell_type": "markdown",
   "id": "9d4ecbad",
   "metadata": {},
   "source": [
    "#### Training the model"
   ]
  },
  {
   "cell_type": "code",
   "execution_count": 6,
   "id": "72f93f41",
   "metadata": {},
   "outputs": [
    {
     "name": "stdout",
     "output_type": "stream",
     "text": [
      "WARNING:tensorflow:From <ipython-input-6-2a741acf9554>:1: Model.fit_generator (from tensorflow.python.keras.engine.training) is deprecated and will be removed in a future version.\n",
      "Instructions for updating:\n",
      "Please use Model.fit, which supports generators.\n",
      "Epoch 1/35\n",
      "448/448 [==============================] - 276s 615ms/step - loss: 1.8132 - accuracy: 0.2499 - val_loss: 1.7954 - val_accuracy: 0.2976\n",
      "Epoch 2/35\n",
      "448/448 [==============================] - 109s 243ms/step - loss: 1.6774 - accuracy: 0.3368 - val_loss: 1.6111 - val_accuracy: 0.3838\n",
      "Epoch 3/35\n",
      "448/448 [==============================] - 106s 237ms/step - loss: 1.5753 - accuracy: 0.3908 - val_loss: 1.5170 - val_accuracy: 0.4244\n",
      "Epoch 4/35\n",
      "448/448 [==============================] - 107s 238ms/step - loss: 1.5023 - accuracy: 0.4220 - val_loss: 1.4374 - val_accuracy: 0.4537\n",
      "Epoch 5/35\n",
      "448/448 [==============================] - 107s 239ms/step - loss: 1.4447 - accuracy: 0.4488 - val_loss: 1.3820 - val_accuracy: 0.4796\n",
      "Epoch 6/35\n",
      "448/448 [==============================] - 109s 243ms/step - loss: 1.3880 - accuracy: 0.4698 - val_loss: 1.3537 - val_accuracy: 0.4842\n",
      "Epoch 7/35\n",
      "448/448 [==============================] - 114s 253ms/step - loss: 1.3465 - accuracy: 0.4870 - val_loss: 1.3132 - val_accuracy: 0.4976\n",
      "Epoch 8/35\n",
      "448/448 [==============================] - 107s 238ms/step - loss: 1.3068 - accuracy: 0.5051 - val_loss: 1.2704 - val_accuracy: 0.5167\n",
      "Epoch 9/35\n",
      "448/448 [==============================] - 104s 233ms/step - loss: 1.2714 - accuracy: 0.5177 - val_loss: 1.2435 - val_accuracy: 0.5227\n",
      "Epoch 10/35\n",
      "448/448 [==============================] - 108s 240ms/step - loss: 1.2438 - accuracy: 0.5301 - val_loss: 1.2236 - val_accuracy: 0.5310\n",
      "Epoch 11/35\n",
      "448/448 [==============================] - 106s 236ms/step - loss: 1.2183 - accuracy: 0.5381 - val_loss: 1.2115 - val_accuracy: 0.5385\n",
      "Epoch 12/35\n",
      "448/448 [==============================] - 106s 236ms/step - loss: 1.1938 - accuracy: 0.5503 - val_loss: 1.1941 - val_accuracy: 0.5462\n",
      "Epoch 13/35\n",
      "448/448 [==============================] - 105s 235ms/step - loss: 1.1663 - accuracy: 0.5600 - val_loss: 1.1876 - val_accuracy: 0.5522\n",
      "Epoch 14/35\n",
      "448/448 [==============================] - 106s 237ms/step - loss: 1.1422 - accuracy: 0.5715 - val_loss: 1.1635 - val_accuracy: 0.5585\n",
      "Epoch 15/35\n",
      "448/448 [==============================] - 106s 237ms/step - loss: 1.1248 - accuracy: 0.5757 - val_loss: 1.1536 - val_accuracy: 0.5633\n",
      "Epoch 16/35\n",
      "448/448 [==============================] - 105s 234ms/step - loss: 1.1041 - accuracy: 0.5872 - val_loss: 1.1371 - val_accuracy: 0.5647\n",
      "Epoch 17/35\n",
      "448/448 [==============================] - 104s 232ms/step - loss: 1.0777 - accuracy: 0.5960 - val_loss: 1.1201 - val_accuracy: 0.5809\n",
      "Epoch 18/35\n",
      "448/448 [==============================] - 104s 233ms/step - loss: 1.0622 - accuracy: 0.6026 - val_loss: 1.1142 - val_accuracy: 0.5822\n",
      "Epoch 19/35\n",
      "448/448 [==============================] - 106s 236ms/step - loss: 1.0425 - accuracy: 0.6104 - val_loss: 1.1139 - val_accuracy: 0.5781\n",
      "Epoch 20/35\n",
      "448/448 [==============================] - 110s 245ms/step - loss: 1.0222 - accuracy: 0.6179 - val_loss: 1.0965 - val_accuracy: 0.5880\n",
      "Epoch 21/35\n",
      "448/448 [==============================] - 108s 240ms/step - loss: 1.0022 - accuracy: 0.6287 - val_loss: 1.0889 - val_accuracy: 0.5910\n",
      "Epoch 22/35\n",
      "448/448 [==============================] - 109s 243ms/step - loss: 0.9798 - accuracy: 0.6368 - val_loss: 1.0850 - val_accuracy: 0.5926\n",
      "Epoch 23/35\n",
      "448/448 [==============================] - 106s 238ms/step - loss: 0.9665 - accuracy: 0.6399 - val_loss: 1.0898 - val_accuracy: 0.5968\n",
      "Epoch 24/35\n",
      "448/448 [==============================] - 107s 238ms/step - loss: 0.9428 - accuracy: 0.6525 - val_loss: 1.0874 - val_accuracy: 0.5965\n",
      "Epoch 25/35\n",
      "448/448 [==============================] - 108s 241ms/step - loss: 0.9236 - accuracy: 0.6592 - val_loss: 1.0784 - val_accuracy: 0.6017\n",
      "Epoch 26/35\n",
      "448/448 [==============================] - 105s 234ms/step - loss: 0.9070 - accuracy: 0.6674 - val_loss: 1.0725 - val_accuracy: 0.5996\n",
      "Epoch 27/35\n",
      "448/448 [==============================] - 105s 234ms/step - loss: 0.8877 - accuracy: 0.6723 - val_loss: 1.0705 - val_accuracy: 0.6032\n",
      "Epoch 28/35\n",
      "448/448 [==============================] - 108s 240ms/step - loss: 0.8682 - accuracy: 0.6785 - val_loss: 1.0636 - val_accuracy: 0.6055\n",
      "Epoch 29/35\n",
      "448/448 [==============================] - 108s 240ms/step - loss: 0.8489 - accuracy: 0.6888 - val_loss: 1.0646 - val_accuracy: 0.6116\n",
      "Epoch 30/35\n",
      "448/448 [==============================] - 111s 248ms/step - loss: 0.8274 - accuracy: 0.6995 - val_loss: 1.0730 - val_accuracy: 0.6113\n",
      "Epoch 31/35\n",
      "448/448 [==============================] - 107s 240ms/step - loss: 0.8064 - accuracy: 0.7048 - val_loss: 1.0694 - val_accuracy: 0.6110\n",
      "Epoch 32/35\n",
      "448/448 [==============================] - 105s 235ms/step - loss: 0.7936 - accuracy: 0.7106 - val_loss: 1.0676 - val_accuracy: 0.6176\n",
      "Epoch 33/35\n",
      "448/448 [==============================] - 109s 243ms/step - loss: 0.7757 - accuracy: 0.7173 - val_loss: 1.0667 - val_accuracy: 0.6094\n",
      "Epoch 34/35\n",
      "448/448 [==============================] - 111s 248ms/step - loss: 0.7574 - accuracy: 0.7225 - val_loss: 1.0706 - val_accuracy: 0.6159\n",
      "Epoch 35/35\n",
      "448/448 [==============================] - 111s 247ms/step - loss: 0.7335 - accuracy: 0.7276 - val_loss: 1.0713 - val_accuracy: 0.6177\n"
     ]
    }
   ],
   "source": [
    "model_info = model.fit_generator(\n",
    "    train_generator,\n",
    "    steps_per_epoch = 28709 // 64,\n",
    "    epochs = 35,\n",
    "    validation_data = test_generator,\n",
    "    validation_steps = 7178 // 64\n",
    ")"
   ]
  },
  {
   "cell_type": "markdown",
   "id": "b754f706",
   "metadata": {},
   "source": [
    "#### Save the model"
   ]
  },
  {
   "cell_type": "code",
   "execution_count": 11,
   "id": "c82a8f17",
   "metadata": {},
   "outputs": [],
   "source": [
    "# saving the model structure in json\n",
    "model_json = model.to_json()\n",
    "with open('Emotion_Dectection_Model.json', 'w') as file:\n",
    "    file.write(model_json)\n",
    "    \n",
    "\n",
    "# saving the model weights in .h5 file\n",
    "model.save_weights('Emotion_Dectection_Model.h5')"
   ]
  }
 ],
 "metadata": {
  "kernelspec": {
   "display_name": "Python 3",
   "language": "python",
   "name": "python3"
  },
  "language_info": {
   "codemirror_mode": {
    "name": "ipython",
    "version": 3
   },
   "file_extension": ".py",
   "mimetype": "text/x-python",
   "name": "python",
   "nbconvert_exporter": "python",
   "pygments_lexer": "ipython3",
   "version": "3.8.8"
  }
 },
 "nbformat": 4,
 "nbformat_minor": 5
}
