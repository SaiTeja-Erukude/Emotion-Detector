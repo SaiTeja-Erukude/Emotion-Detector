{
 "cells": [
  {
   "cell_type": "code",
   "execution_count": 5,
   "id": "e8d75e80",
   "metadata": {},
   "outputs": [],
   "source": [
    "import cv2\n",
    "import numpy as np\n",
    "\n",
    "from keras.models import model_from_json"
   ]
  },
  {
   "cell_type": "code",
   "execution_count": 6,
   "id": "a711a3a0",
   "metadata": {},
   "outputs": [],
   "source": [
    "emotions = {0: 'Angry', 1: 'Disgusted', 2: 'Fear', 3: 'Happy', 4: 'Neutral', 5: 'Sad', 6: 'Surprised'}"
   ]
  },
  {
   "cell_type": "markdown",
   "id": "175de9f0",
   "metadata": {},
   "source": [
    "#### Loading the model"
   ]
  },
  {
   "cell_type": "code",
   "execution_count": 7,
   "id": "80276c19",
   "metadata": {},
   "outputs": [
    {
     "name": "stdout",
     "output_type": "stream",
     "text": [
      "Model Ready!\n"
     ]
    }
   ],
   "source": [
    "# load structure from json file\n",
    "\n",
    "file = open('Emotion_Dectection_Model.json', 'r')\n",
    "json_model = file.read()\n",
    "file.close()\n",
    "model = model_from_json(json_model)\n",
    "\n",
    "\n",
    "# load weights into the new model\n",
    "\n",
    "model.load_weights('Emotion_Dectection_Model.h5')\n",
    "print('Model Ready!')"
   ]
  },
  {
   "cell_type": "code",
   "execution_count": 8,
   "id": "42d021d8",
   "metadata": {},
   "outputs": [],
   "source": [
    "# start the webcam\n",
    "cap = cv2.VideoCapture(0)\n",
    "\n",
    "while True:\n",
    "    success, frame = cap.read()\n",
    "    frame = cv2.resize(frame, (1280, 720))\n",
    "    if not success:\n",
    "        break\n",
    "        \n",
    "    face_detector = cv2.CascadeClassifier('haarcascade_frontalface_default.xml')\n",
    "    \n",
    "    # converting into gray img\n",
    "    gray_frame = cv2.cvtColor(frame, cv2.COLOR_BGR2GRAY)\n",
    "    \n",
    "    # detect faces\n",
    "    faces = face_detector.detectMultiScale(gray_frame, scaleFactor=1.3, minNeighbors=5)\n",
    "    \n",
    "    # looping through each face\n",
    "    for(x, y, w, h) in faces:\n",
    "        cv2.rectangle(frame, (x, y-50),  (x+w, y+h+10), (0, 255, 0), 4)\n",
    "        roi = gray_frame[y:y+h, x:x+w]\n",
    "        cropped_img = np.expand_dims(np.expand_dims(cv2.resize(roi, (48, 48)), -1), 0)\n",
    "        \n",
    "        # predict the emotion\n",
    "        pred = model.predict(cropped_img)\n",
    "        maxIndex = int(np.argmax(pred))\n",
    "        cv2.putText(frame, emotions[maxIndex], (x+5, y+5), cv2.FONT_HERSHEY_SIMPLEX, 2, (255,0,0), 2)\n",
    "        \n",
    "    cv2.imshow('Emotion Detector', frame)\n",
    "    \n",
    "    # close the frame on ESC key\n",
    "    if cv2.waitKey(1) == 27:\n",
    "        break\n",
    "        \n",
    "# release and destroy all windows\n",
    "cap.release()\n",
    "cv2.destroyAllWindows()"
   ]
  },
 ],
 "metadata": {
  "kernelspec": {
   "display_name": "Python 3",
   "language": "python",
   "name": "python3"
  },
  "language_info": {
   "codemirror_mode": {
    "name": "ipython",
    "version": 3
   },
   "file_extension": ".py",
   "mimetype": "text/x-python",
   "name": "python",
   "nbconvert_exporter": "python",
   "pygments_lexer": "ipython3",
   "version": "3.8.8"
  }
 },
 "nbformat": 4,
 "nbformat_minor": 5
}
